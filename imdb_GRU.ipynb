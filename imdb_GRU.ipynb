{
  "nbformat": 4,
  "nbformat_minor": 0,
  "metadata": {
    "colab": {
      "provenance": []
    },
    "kernelspec": {
      "name": "python3",
      "display_name": "Python 3"
    },
    "language_info": {
      "name": "python"
    }
  },
  "cells": [
    {
      "cell_type": "code",
      "execution_count": 20,
      "metadata": {
        "id": "9nrt8Z-P6JVR"
      },
      "outputs": [],
      "source": [
        "import tensorflow as tf\n",
        "from tensorflow.keras.datasets import imdb\n",
        "from tensorflow.keras.preprocessing.sequence import pad_sequences\n",
        "from tensorflow.keras.models import Sequential\n",
        "from tensorflow.keras.layers import Embedding,GRU, Dense\n"
      ]
    },
    {
      "cell_type": "code",
      "source": [
        "#load the dataset\n",
        "num_words = 10000\n",
        "max_len = 100\n",
        "(x_train, y_train), (x_test, y_test) = imdb.load_data(num_words=num_words)"
      ],
      "metadata": {
        "id": "MbPXvhDB8T0c"
      },
      "execution_count": 24,
      "outputs": []
    },
    {
      "cell_type": "code",
      "source": [
        "#sequence padding to ensure uniform length\n",
        "x_train = pad_sequences(x_train, maxlen=max_len)\n",
        "x_test = pad_sequences(x_test, maxlen=max_len)"
      ],
      "metadata": {
        "id": "v9eZAW3v809L"
      },
      "execution_count": 25,
      "outputs": []
    },
    {
      "cell_type": "code",
      "source": [
        "#building GRU model with dropout\n",
        "model = Sequential()\n",
        "model.add(Embedding(num_words,32))\n",
        "model.add(GRU(32, dropout=0.5))\n",
        "model.add(Dense(1, activation='sigmoid'))"
      ],
      "metadata": {
        "id": "0zCjhNnx9NBl"
      },
      "execution_count": 31,
      "outputs": []
    },
    {
      "cell_type": "code",
      "source": [
        "#compiling the model, selecting optimizer,loss and ,metric\n",
        "model.compile(optimizer='rmsprop', loss='binary_crossentropy', metrics=['acc'])\n",
        "model.summary()"
      ],
      "metadata": {
        "colab": {
          "base_uri": "https://localhost:8080/"
        },
        "id": "ud8ulBa09oG4",
        "outputId": "525a30a8-80bd-4caa-f2da-ffc0efc99f0b"
      },
      "execution_count": 32,
      "outputs": [
        {
          "output_type": "stream",
          "name": "stdout",
          "text": [
            "Model: \"sequential_7\"\n",
            "_________________________________________________________________\n",
            " Layer (type)                Output Shape              Param #   \n",
            "=================================================================\n",
            " embedding_7 (Embedding)     (None, None, 32)          320000    \n",
            "                                                                 \n",
            " gru_2 (GRU)                 (None, 32)                6336      \n",
            "                                                                 \n",
            " dense_6 (Dense)             (None, 1)                 33        \n",
            "                                                                 \n",
            "=================================================================\n",
            "Total params: 326369 (1.24 MB)\n",
            "Trainable params: 326369 (1.24 MB)\n",
            "Non-trainable params: 0 (0.00 Byte)\n",
            "_________________________________________________________________\n"
          ]
        }
      ]
    },
    {
      "cell_type": "code",
      "source": [
        "#training the model\n",
        "history = model.fit(x_train, y_train, epochs=5, batch_size=128, validation_split=0.2)"
      ],
      "metadata": {
        "colab": {
          "base_uri": "https://localhost:8080/"
        },
        "id": "9wOlthEn9_HH",
        "outputId": "d4f33cd4-a927-4cfe-afe9-93c55e04ba44"
      },
      "execution_count": 33,
      "outputs": [
        {
          "output_type": "stream",
          "name": "stdout",
          "text": [
            "Epoch 1/5\n",
            "157/157 [==============================] - 15s 82ms/step - loss: 0.6350 - acc: 0.6177 - val_loss: 0.5602 - val_acc: 0.7392\n",
            "Epoch 2/5\n",
            "157/157 [==============================] - 12s 79ms/step - loss: 0.4022 - acc: 0.8188 - val_loss: 0.3899 - val_acc: 0.8366\n",
            "Epoch 3/5\n",
            "157/157 [==============================] - 12s 75ms/step - loss: 0.3303 - acc: 0.8600 - val_loss: 0.3449 - val_acc: 0.8490\n",
            "Epoch 4/5\n",
            "157/157 [==============================] - 13s 81ms/step - loss: 0.2916 - acc: 0.8823 - val_loss: 0.3378 - val_acc: 0.8514\n",
            "Epoch 5/5\n",
            "157/157 [==============================] - 13s 80ms/step - loss: 0.2647 - acc: 0.8931 - val_loss: 0.3809 - val_acc: 0.8330\n"
          ]
        }
      ]
    },
    {
      "cell_type": "code",
      "source": [
        "#evaluation of the model\n",
        "loss, accuracy = model.evaluate(x_test, y_test)\n",
        "print(\"Test Accuracy:\", accuracy)"
      ],
      "metadata": {
        "colab": {
          "base_uri": "https://localhost:8080/"
        },
        "id": "amKp-V7e-OCQ",
        "outputId": "130f2788-0322-4808-ac6a-9695d378283d"
      },
      "execution_count": 34,
      "outputs": [
        {
          "output_type": "stream",
          "name": "stdout",
          "text": [
            "782/782 [==============================] - 8s 11ms/step - loss: 0.3751 - acc: 0.8329\n",
            "Test Accuracy: 0.8329200148582458\n"
          ]
        }
      ]
    },
    {
      "cell_type": "code",
      "source": [],
      "metadata": {
        "id": "WEjxE08S-jDP"
      },
      "execution_count": null,
      "outputs": []
    }
  ]
}